{
 "cells": [
  {
   "cell_type": "markdown",
   "metadata": {},
   "source": [
    "These lines ensure that edits to libraries you make are reloaded here automatically, and also that any charts or images displayed are shown in this notebook. "
   ]
  },
  {
   "cell_type": "code",
   "execution_count": 1,
   "metadata": {},
   "outputs": [
    {
     "name": "stderr",
     "output_type": "stream",
     "text": [
      "/project/def-jlerch/tools/programs/fastCell/1.0.0/lib/python3.7/site-packages/matplotlib/font_manager.py:232: UserWarning: Matplotlib is building the font cache using fc-list. This may take a moment.\n",
      "  'Matplotlib is building the font cache using fc-list. '\n"
     ]
    }
   ],
   "source": [
    "%reload_ext autoreload\n",
    "%autoreload 2\n",
    "%matplotlib inline"
   ]
  },
  {
   "cell_type": "markdown",
   "metadata": {},
   "source": [
    "# Import"
   ]
  },
  {
   "cell_type": "markdown",
   "metadata": {},
   "source": [
    "Importing necessary packages. "
   ]
  },
  {
   "cell_type": "code",
   "execution_count": 2,
   "metadata": {},
   "outputs": [],
   "source": [
    "from fastai.vision import *\n",
    "from fastai.callbacks.hooks import *\n",
    "from fastai.utils.mem import *\n",
    "from fastai.callbacks import SaveModelCallback\n",
    "from functools import partial\n",
    "import cv2 as cv\n",
    "import matplotlib.pyplot as plt\n",
    "import numpy as np\n",
    "import re, os\n",
    "import random\n",
    "import fastai"
   ]
  },
  {
   "cell_type": "code",
   "execution_count": 3,
   "metadata": {},
   "outputs": [
    {
     "name": "stdout",
     "output_type": "stream",
     "text": [
      "1.0.59 1.2.0 0.4.0 4.1.0\n"
     ]
    }
   ],
   "source": [
    "import torchvision\n",
    "print(fastai.__version__,\n",
    "torch.__version__,\n",
    "torchvision.__version__,\n",
    "cv.__version__)"
   ]
  },
  {
   "cell_type": "markdown",
   "metadata": {},
   "source": [
    "# Preprocess"
   ]
  },
  {
   "cell_type": "markdown",
   "metadata": {},
   "source": [
    "Processing raw images and manually labelled masks. "
   ]
  },
  {
   "cell_type": "code",
   "execution_count": 4,
   "metadata": {},
   "outputs": [
    {
     "name": "stdout",
     "output_type": "stream",
     "text": [
      "['/project/6001494/mdagys/repos/projects', '/cvmfs/soft.computecanada.ca/easybuild/software/2017/avx2/Compiler/gcc7.3/opencv/4.1.0/lib/python3.7/site-packages/cv2/python-3.7', '', '/project/def-jlerch/tools/programs/fastCell/1.0.0/lib/python3.7/site-packages', '/project/def-jlerch/tools/programs/pytorch/1.2.0', '/cvmfs/soft.computecanada.ca/easybuild/software/2017/Core/python/3.7.4/easybuild/python', '/cvmfs/soft.computecanada.ca/easybuild/python/site-packages', '/cvmfs/soft.computecanada.ca/custom/python/site-packages', '/project/def-jlerch/tools/programs/fastCell/1.0.0/lib/python3.7/site-packages/fastCell-1.0.0-py3.7.egg', '/project/def-jlerch/tools/programs/fastCell/1.0.0/lib/python3.7/site-packages/fastai-1.0.59-py3.7.egg', '/project/def-jlerch/tools/programs/fastCell/1.0.0/lib/python3.7/site-packages/pandas-0.25.3-py3.7-linux-x86_64.egg', '/project/def-jlerch/tools/programs/fastCell/1.0.0/lib/python3.7/site-packages/spacy-2.2.2-py3.7-linux-x86_64.egg', '/project/def-jlerch/tools/programs/fastCell/1.0.0/lib/python3.7/site-packages/PyYAML-5.1.2-py3.7-linux-x86_64.egg', '/project/def-jlerch/tools/programs/fastCell/1.0.0/lib/python3.7/site-packages/packaging-19.2-py3.7.egg', '/project/def-jlerch/tools/programs/fastCell/1.0.0/lib/python3.7/site-packages/nvidia_ml_py3-7.352.0-py3.7.egg', '/project/def-jlerch/tools/programs/fastCell/1.0.0/lib/python3.7/site-packages/numexpr-2.7.0-py3.7-linux-x86_64.egg', '/project/def-jlerch/tools/programs/fastCell/1.0.0/lib/python3.7/site-packages/beautifulsoup4-4.8.1-py3.7.egg', '/project/def-jlerch/tools/programs/fastCell/1.0.0/lib/python3.7/site-packages/fastprogress-0.1.21-py3.7.egg', '/project/def-jlerch/tools/programs/fastCell/1.0.0/lib/python3.7/site-packages/Bottleneck-1.3.0rc2-py3.7-linux-x86_64.egg', '/project/def-jlerch/tools/programs/fastCell/1.0.0/lib/python3.7/site-packages/pytz-2019.3-py3.7.egg', '/project/def-jlerch/tools/programs/fastCell/1.0.0/lib/python3.7/site-packages/importlib_metadata-0.23-py3.7.egg', '/project/def-jlerch/tools/programs/fastCell/1.0.0/lib/python3.7/site-packages/srsly-0.2.0-py3.7-linux-x86_64.egg', '/project/def-jlerch/tools/programs/fastCell/1.0.0/lib/python3.7/site-packages/wasabi-0.4.0-py3.7.egg', '/project/def-jlerch/tools/programs/fastCell/1.0.0/lib/python3.7/site-packages/plac-1.1.3-py3.7.egg', '/project/def-jlerch/tools/programs/fastCell/1.0.0/lib/python3.7/site-packages/blis-0.4.1-py3.7-linux-x86_64.egg', '/project/def-jlerch/tools/programs/fastCell/1.0.0/lib/python3.7/site-packages/thinc-7.3.1-py3.7-linux-x86_64.egg', '/project/def-jlerch/tools/programs/fastCell/1.0.0/lib/python3.7/site-packages/preshed-3.0.2-py3.7-linux-x86_64.egg', '/project/def-jlerch/tools/programs/fastCell/1.0.0/lib/python3.7/site-packages/cymem-2.0.2-py3.7-linux-x86_64.egg', '/project/def-jlerch/tools/programs/fastCell/1.0.0/lib/python3.7/site-packages/murmurhash-1.0.2-py3.7-linux-x86_64.egg', '/project/def-jlerch/tools/programs/fastCell/1.0.0/lib/python3.7/site-packages/soupsieve-1.9.5-py3.7.egg', '/project/def-jlerch/tools/programs/fastCell/1.0.0/lib/python3.7/site-packages/zipp-0.6.0-py3.7.egg', '/project/def-jlerch/tools/programs/fastCell/1.0.0/lib/python3.7/site-packages/more_itertools-7.2.0-py3.7.egg', '/cvmfs/soft.computecanada.ca/easybuild/software/2017/Core/python/3.7.4/lib/python37.zip', '/cvmfs/soft.computecanada.ca/easybuild/software/2017/Core/python/3.7.4/lib/python3.7', '/cvmfs/soft.computecanada.ca/easybuild/software/2017/Core/python/3.7.4/lib/python3.7/lib-dynload', '/cvmfs/soft.computecanada.ca/easybuild/software/2017/Core/python/3.7.4/lib/python3.7/site-packages', '/cvmfs/soft.computecanada.ca/easybuild/software/2017/Core/python/3.7.4/lib/python3.7/site-packages/setuptools-41.0.1-py3.7.egg', '/cvmfs/soft.computecanada.ca/easybuild/software/2017/Core/python/3.7.4/lib/python3.7/site-packages/pip-19.1.1-py3.7.egg', '/cvmfs/soft.computecanada.ca/easybuild/software/2017/Core/python/3.7.4/lib/python3.7/site-packages/virtualenv-16.6.2-py3.7.egg', '/cvmfs/soft.computecanada.ca/easybuild/software/2017/Core/python/3.7.4/lib/python3.7/site-packages/wheel-0.33.4-py3.7.egg', '/cvmfs/soft.computecanada.ca/easybuild/software/2017/Core/python/3.7.4/lib/python3.7/site-packages/gnureadline-8.0.0-py3.7-linux-x86_64.egg', '/cvmfs/soft.computecanada.ca/easybuild/software/2017/avx2/Compiler/gcc7.3/opencv/4.1.0/lib/python3.7/site-packages', '/cvmfs/soft.computecanada.ca/easybuild/software/2017/Core/python/3.7.4/easybuild/python', '/project/def-jlerch/tools/programs/fastCell/1.0.0/lib/python3.7/site-packages/IPython/extensions', '/home/mdagys/.ipython']\n"
     ]
    }
   ],
   "source": [
    "import sys\n",
    "print(sys.path)"
   ]
  },
  {
   "cell_type": "code",
   "execution_count": null,
   "metadata": {},
   "outputs": [],
   "source": [
    "raw_dir = Path(\"raw\")\n",
    "\n",
    "raws = [raw_path for raw_path in raw_dir.ls() if \".tif\" in raw_path.as_posix()]\n",
    "labels = sorted([raw_path for raw_path in raws if \"_label\" in raw_path.name])\n",
    "images = [Path(re.sub(r'_label', '_image', raw_path.as_posix())) for raw_path in labels]"
   ]
  }
 ],
 "metadata": {
  "kernelspec": {
   "display_name": "Python 3",
   "language": "python",
   "name": "python3"
  },
  "language_info": {
   "codemirror_mode": {
    "name": "ipython",
    "version": 3
   },
   "file_extension": ".py",
   "mimetype": "text/x-python",
   "name": "python",
   "nbconvert_exporter": "python",
   "pygments_lexer": "ipython3",
   "version": "3.7.4"
  }
 },
 "nbformat": 4,
 "nbformat_minor": 2
}
